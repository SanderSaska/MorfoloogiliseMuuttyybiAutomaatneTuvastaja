{
  "nbformat": 4,
  "nbformat_minor": 0,
  "metadata": {
    "colab": {
      "provenance": []
    },
    "kernelspec": {
      "name": "python3",
      "display_name": "Python 3"
    },
    "language_info": {
      "name": "python"
    }
  },
  "cells": [
    {
      "cell_type": "markdown",
      "source": [
        "**Soovitatav on käivitada kõik järgnev Google Colab'is. Teistel platvormidel ei saa garanteerida, et kõik toimib nii nagu peaks.**"
      ],
      "metadata": {
        "id": "WYn9kbYOm3Oz"
      }
    },
    {
      "cell_type": "code",
      "execution_count": null,
      "metadata": {
        "colab": {
          "base_uri": "https://localhost:8080/"
        },
        "id": "8mnbPpApixeV",
        "outputId": "483b8cdc-db1c-4694-b5ef-3fd3a371231c"
      },
      "outputs": [
        {
          "output_type": "stream",
          "name": "stdout",
          "text": [
            "Mounted at /content/drive\n"
          ]
        }
      ],
      "source": [
        "# Colabi jaoks\n",
        "from google.colab import drive\n",
        "from google.colab import runtime\n",
        "drive.mount('/content/drive')\n",
        "import os\n",
        "os.chdir('/content/drive/My Drive/Colab Notebooks/Lõputöö/Bakalaureus') # Muutke oma Drive asukohaks"
      ]
    },
    {
      "cell_type": "code",
      "execution_count": null,
      "metadata": {
        "colab": {
          "base_uri": "https://localhost:8080/"
        },
        "id": "ou-tRVpyw9l3",
        "outputId": "1abb48ce-f4e1-41cf-b373-7996291ccdc6"
      },
      "outputs": [
        {
          "output_type": "stream",
          "name": "stdout",
          "text": [
            "Python 3.10.12\n"
          ]
        }
      ],
      "source": [
        "!python --version"
      ]
    },
    {
      "cell_type": "code",
      "execution_count": null,
      "metadata": {
        "id": "Fgw3BYI5D4XK"
      },
      "outputs": [],
      "source": [
        "# Importimised\n",
        "import re\n",
        "import time\n",
        "import random\n",
        "import csv\n",
        "from collections import defaultdict"
      ]
    },
    {
      "cell_type": "markdown",
      "metadata": {
        "id": "UReLuAxdh4WT"
      },
      "source": [
        "## Andmete kogumine, analüüs ja statistika"
      ]
    },
    {
      "cell_type": "markdown",
      "source": [
        "Selles peatükis kogutakse andmeid leksikonist kasutades regulaaravalidisi ning koostatakse sõnaliigi ja muuttüübi sagedustabeleid."
      ],
      "metadata": {
        "id": "innaezdVr7bO"
      }
    },
    {
      "cell_type": "markdown",
      "metadata": {
        "id": "ZVuZvFqH0vJE"
      },
      "source": [
        "### Andmete kogumine"
      ]
    },
    {
      "cell_type": "markdown",
      "source": [
        "Järgmise koodiga uuritakse palju kirjeid on leksikonis."
      ],
      "metadata": {
        "id": "Oeeyi_nSlscj"
      }
    },
    {
      "cell_type": "code",
      "execution_count": null,
      "metadata": {
        "colab": {
          "base_uri": "https://localhost:8080/"
        },
        "id": "m0F3C9AKi-sE",
        "outputId": "30061ab3-ce20-46df-b261-a8fcaeecafd5"
      },
      "outputs": [
        {
          "output_type": "stream",
          "name": "stdout",
          "text": [
            "73831\n"
          ]
        }
      ],
      "source": [
        "# Kirjete arv\n",
        "with open('fs_lex.txt', 'r') as fs_lex:\n",
        "  ridade_arv = 0\n",
        "  fs_lex.readline() # Esimene rida on tühi rida\n",
        "  for rida in fs_lex:\n",
        "    ridade_arv += 1\n",
        "  print(ridade_arv) # 73831"
      ]
    },
    {
      "cell_type": "markdown",
      "metadata": {
        "id": "1283idqQ8XW8"
      },
      "source": [
        "#### Täiendatud versioon"
      ]
    },
    {
      "cell_type": "code",
      "execution_count": null,
      "metadata": {
        "colab": {
          "base_uri": "https://localhost:8080/"
        },
        "id": "rYovc_HDRRFd",
        "outputId": "20eab591-6320-4e0f-c677-60dff2346e77"
      },
      "outputs": [
        {
          "output_type": "stream",
          "name": "stdout",
          "text": [
            "['Andorra', 'la', 'Vella']\n",
            "Andorra la Vella \n"
          ]
        }
      ],
      "source": [
        "# Testimine\n",
        "puhastatud = re.sub(r'[^a-zA-Z0-9-\\/\\\\=ÕÄÖÜŠŽõäöüšž]', '', 'And?orra=la=Vella')\n",
        "if '=' in puhastatud: # Mitmesõnaline\n",
        "  puhastatud = puhastatud.replace('=', ' ')\n",
        "\n",
        "if puhastatud[0].isupper():\n",
        "  if '-' not in puhastatud:\n",
        "    sõnasid = puhastatud.split()\n",
        "    print(sõnasid)\n",
        "    puhastatud = \"\"\n",
        "    for s in sõnasid:\n",
        "      if s[0].isupper():\n",
        "        puhastatud += s[0] + s[1:].lower() + \" \"\n",
        "      else:\n",
        "        puhastatud += s + \" \"\n",
        "  else:\n",
        "    sõnasid = puhastatud.split(\"-\")\n",
        "    print(sõnasid)\n",
        "    puhastatud = \"\"\n",
        "    for s in sõnasid:\n",
        "      if s[0].isupper():\n",
        "        puhastatud += s[0] + s[1:].lower() + \"-\"\n",
        "      else:\n",
        "        puhastatud += s + \" \"\n",
        "  puhastatud = puhastatud.strip(\"-\")\n",
        "\n",
        "else:\n",
        "  puhastatud = puhastatud.lower()\n",
        "\n",
        "print(puhastatud)"
      ]
    },
    {
      "cell_type": "code",
      "source": [
        "testkirjed = [\"lisav:0919|**s<un]d_l<iit[MA s<un]d_l<iit[A s<un]d_liida[B s<un]d_liide[TUD s<un]d_l<iit[MATA s<un]d_l<iit[EV s<un]d_l<iit[IS s<un]d_l<iit[KU s<un]d_liida[ME s<un]d_liide[TAKSE s<un]d_l<iit[SIN s<un]d_l<iit[SIME s<un]d_l<iit[NUD !V.34!\",\n",
        "              \"sage:0905|kahe_k<ümnene kahe_k<ümnese kahe_k<ümnes[T!\\SAm\\.12^I^+7!&&!\\Am\\.10+7!\"]\n",
        "sõnaliigi_regex = r'\\\\(\\w)\\w{0,5}\\\\|\\!(\\w)\\w{0,5}\\.'\n",
        "test_list = []\n",
        "for testkirje in testkirjed:\n",
        "  ss = re.findall(sõnaliigi_regex, testkirje)\n",
        "  if ss:\n",
        "    for i in range(len(ss)):\n",
        "      for s in ss[i]:\n",
        "        if s:\n",
        "          ss[i] = s\n",
        "          break\n",
        "      if ss[i] == 'B': # Sisemiselt kasutatakse sellist sõnaliiki, et määrata omadussõna, millest kesk- või ülivõrde moodustamine ei käi reeglipäraselt, nt. lahja\n",
        "        ss[i] = 'A' # Selle asemele omadussõna algvõrde\n",
        "    test_list.append(ss)\n",
        "print(test_list)"
      ],
      "metadata": {
        "colab": {
          "base_uri": "https://localhost:8080/"
        },
        "id": "2g95_XlzOHqO",
        "outputId": "7aeda451-c737-491c-f642-fe97318f767e"
      },
      "execution_count": null,
      "outputs": [
        {
          "output_type": "stream",
          "name": "stdout",
          "text": [
            "[['V'], ['S', 'A']]\n"
          ]
        }
      ]
    },
    {
      "cell_type": "markdown",
      "source": [
        "Järgmine kood kogub igast kirjest algvormi, muuttüübi ja sõnaliigi kasutades regulaaravaldisi."
      ],
      "metadata": {
        "id": "4lI0ZaHil1C3"
      }
    },
    {
      "cell_type": "code",
      "execution_count": null,
      "metadata": {
        "id": "zy4CtvbVTQ4x"
      },
      "outputs": [],
      "source": [
        "# Regulaaravaldised\n",
        "sõna_regex = r'\\|(.*?)!'\n",
        "sõnaliigi_regex = r'\\\\(\\w)\\w{0,5}\\\\|\\!(\\w)\\w{0,5}\\.'\n",
        "muuttüübi_regex = r'\\.(\\d{1,2})'\n",
        "\n",
        "# Järjendid erinevate andmete kogumiseks\n",
        "sõnad = []\n",
        "sõnaliigid = []\n",
        "muuttüübid = []\n",
        "\n",
        "# Erandite loendamine. Sümbolid ** määravad, et tegu on erindiga\n",
        "count_erandid = 0\n",
        "\n",
        "# Välistab sõnade asemele pandud muud tähised algvormi otsimisel\n",
        "keelud = ['$', '--']\n",
        "\n",
        "# Leksikoni avamine\n",
        "with open('fs_lex.txt', 'r') as fs_lex:\n",
        "  # Andmete kogumine\n",
        "  fs_lex.readline() # Esimene rida on tühi\n",
        "  for rida in fs_lex:\n",
        "      #time.sleep(0.125)\n",
        "      #display(rida)\n",
        "      #info = rida.split('|')[1].split('!')\n",
        "\n",
        "      if re.search(r'.*(\\*\\*).*', rida): # Erandid\n",
        "        count_erandid += 1\n",
        "\n",
        "      # Sõna kättesaamine\n",
        "      #sõnu = info[0].split(' ')\n",
        "      sõnu = re.findall(sõna_regex, rida)\n",
        "      if sõnu:\n",
        "        sõnu = sõnu[0].split()\n",
        "        for s in sõnu: # Võtab esimese seda esindavat muutevormi, mis on olemas ning välistab muud tähised\n",
        "          if s:\n",
        "            järgmine = False\n",
        "            for keeld in keelud:\n",
        "              if keeld in s:\n",
        "                järgmine = True\n",
        "                break\n",
        "            if järgmine:\n",
        "              #print(s)\n",
        "              continue\n",
        "            sõna = s\n",
        "            break\n",
        "      else:\n",
        "        continue\n",
        "\n",
        "      # Sõnaliigi kättesaamine\n",
        "      sõnaliik = re.findall(sõnaliigi_regex, rida)\n",
        "\n",
        "      if sõnaliik:\n",
        "        for i in range(len(sõnaliik)):\n",
        "          for sl in sõnaliik[i]: # Regexi disjunktsioon | annab kaks vastet, millest üks on tühi\n",
        "            if sl:\n",
        "              sõnaliik[i] = sl # Võtab mittetühja vaste\n",
        "              break\n",
        "          if sõnaliik[i] == 'B': # Sisemiselt kasutatakse sellist sõnaliiki, et määrata omadussõna, millest kesk- või ülivõrde moodustamine ei käi reeglipäraselt, nt. lahja\n",
        "            sõnaliik[i] = 'A' # Selle asemele omadussõna algvõrde\n",
        "        sõnaliigid.append(sõnaliik)\n",
        "      else:\n",
        "        print(rida)\n",
        "\n",
        "      # Muuttüübi kättesaamine\n",
        "      muuttüüp = re.findall(muuttüübi_regex, rida)\n",
        "      muuttüübid.append(muuttüüp)\n",
        "\n",
        "      # Sõnade puhastamine -- tegusõnadel näiteks MA tähis väiketähtedeks\n",
        "      puhastatud = re.sub(r'[\\+\\<\\?\\]\\~\\_\\[\\(\\)\\&\\#\\’\\*\\,\\$\\*]', '', sõna)\n",
        "      if '=' in puhastatud: # Sümbol = tähistab, et tegu on sõnaühendiga\n",
        "        puhastatud = puhastatud.replace('=', ' ')\n",
        "\n",
        "      if puhastatud[0].isupper(): # Kui sõna on suure algustähega\n",
        "        if '-' not in puhastatud: # Sõnas pole sidekriipsu\n",
        "          sõnasid = puhastatud.split()\n",
        "          puhastatud = \"\"\n",
        "          for s in sõnasid: # Kui sõna sõnaühendis on suure algustähega, siis jäta suur algustäht sisse\n",
        "            if s[0].isupper():\n",
        "              puhastatud += s[0] + s[1:].lower() + \" \"\n",
        "            else:\n",
        "              puhastatud += s + \" \"\n",
        "          puhastatud = puhastatud.strip()\n",
        "\n",
        "        else: # Sõna on sidekriipsuga\n",
        "          sõnasid = puhastatud.split(\"-\")\n",
        "          puhastatud = \"\"\n",
        "          for s in sõnasid:\n",
        "            if s[0].isupper(): # Kui sõna sõnaühendis on suure algustähega, siis jäta suur algustäht sisse\n",
        "              puhastatud += s[0] + s[1:].lower() + \"-\"\n",
        "            else:\n",
        "              puhastatud += s + \" \"\n",
        "        puhastatud = puhastatud.strip(\"-\")\n",
        "\n",
        "      else: # Sõna pole suure algustähega, mistõttu muuda kõik väiketähtedeks\n",
        "        puhastatud = puhastatud.lower()\n",
        "\n",
        "      if puhastatud: # Kui puhastatud, siis lisa sõna järjendisse\n",
        "        sõnad.append([puhastatud])\n",
        "      #print(puhastatud, sõnaliik, muuttüüp)\n",
        "\n",
        "# Eitussõnad \"ei\" ja \"ära\"\n",
        "#sõnad.extend([[\"ei\"], [\"ära\"]])\n",
        "#sõnaliigid.extend([[], []])\n",
        "#muuttüübid.extend([[], []])"
      ]
    },
    {
      "cell_type": "markdown",
      "source": [
        "Järgmise koodiga kontrollitakse andmete kogumist, kas kõik kirjed saadi kätte, kas jäi mingi kirje vahele. Lisaks väljastatakse esimesed ja viimased 20 kirjet."
      ],
      "metadata": {
        "id": "deqWOmXUpGEv"
      }
    },
    {
      "cell_type": "code",
      "execution_count": null,
      "metadata": {
        "colab": {
          "base_uri": "https://localhost:8080/"
        },
        "id": "brDfSz5YL7oA",
        "outputId": "c790b90d-bf41-474b-e852-c8c4d9df3a74"
      },
      "outputs": [
        {
          "output_type": "stream",
          "name": "stdout",
          "text": [
            "Kirjete arv: 73831\n",
            "Sõnaliike kokku: 73829\n",
            "Muuttüüpe kokku: 73829\n",
            "Sõnu kokku: 73829 \t Erinevus tuleneb muutevormide ära ja ei eemaldamises\n",
            "Millest erandeid: 2932\n",
            "[['1/16-finaal'], ['1/2-finaal'], ['1/4-finaal'], ['1/8-finaal'], ['aabe'], ['Aabel'], ['aabits'], ['aabitsajünger'], ['aabitsajüts'], ['aabitsalik'], ['aabitsaraamat'], ['aabitsatarkus'], ['aabitsatõde'], ['Aabram'], ['Aachen'], ['Aadam'], ['aadamaõun'], ['aadamaülikond'], ['aadamaülikonnas'], ['aade']]\n",
            "[['22'], ['22'], ['22'], ['22'], ['6'], ['2'], ['2'], ['2'], ['22'], ['25'], ['2'], ['11', '9'], ['18'], ['2'], ['2'], ['2'], ['22'], ['22'], [], ['6']]\n",
            "[['S'], ['S'], ['S'], ['S'], ['S'], ['H'], ['S'], ['S'], ['S'], ['A'], ['S'], ['S', 'S'], ['S'], ['H'], ['H'], ['H'], ['S'], ['S'], ['A'], ['S']]\n",
            "[['üürivõlg'], ['üürnik'], ['üür'], ['Xbox'], ['Xian'], ['x-jalg'], ['x-suurus'], ['Yamoussoukro'], ['Yangon'], ['Yaounde'], ['Yaoundé'], ['Yaren'], ['Yoko-Gumi'], ['Yokohama'], ['yokozuna'], ['Yomi'], ['yo-on'], ['Yorkshire'], ['York'], ['Ypres']]\n",
            "[['22'], ['25'], ['22'], ['22'], ['22'], ['22'], ['11', '9'], ['1'], ['22'], ['26'], ['26'], ['22'], ['16'], ['16'], ['16'], ['16'], ['22'], ['22'], ['22'], ['2']]\n",
            "[['S'], ['S'], ['S'], ['H'], ['H'], ['S'], ['S', 'S'], ['H'], ['H'], ['H'], ['H'], ['H'], ['H'], ['H'], ['S'], ['H'], ['S'], ['H'], ['H'], ['H']]\n",
            "['detsiliitrine'] ['S', 'A'] ['12', '10']\n",
            "['kahekümnene'] ['S', 'A'] ['12', '10']\n",
            "['kolmekümnene'] ['S', 'A'] ['12', '10']\n",
            "['kümnene'] ['S', 'A'] ['12', '10']\n",
            "['viiekümnene'] ['S', 'A'] ['12', '10']\n"
          ]
        }
      ],
      "source": [
        "print(f\"Kirjete arv: {ridade_arv}\")\n",
        "print(f\"Sõnaliike kokku: {len(sõnaliigid)}\")\n",
        "print(f\"Muuttüüpe kokku: {len(muuttüübid)}\")\n",
        "print(f\"Sõnu kokku: {len(sõnad)} \\t Erinevus tuleneb muutevormide ära ja ei eemaldamises\")\n",
        "print(f\"Millest erandeid: {count_erandid}\")\n",
        "print(sõnad[:20])\n",
        "print(muuttüübid[:20])\n",
        "print(sõnaliigid[:20])\n",
        "print(sõnad[-20:])\n",
        "print(muuttüübid[-20:])\n",
        "print(sõnaliigid[-20:])\n",
        "\n",
        "for sõna, sõnaliik, muuttüüp in zip(sõnad, sõnaliigid, muuttüübid):\n",
        "  if sõnaliik == ['S', 'A']:\n",
        "    print(sõna, sõnaliik, muuttüüp)"
      ]
    },
    {
      "cell_type": "markdown",
      "source": [
        "Järgmises koodis väljastatakse muuttüüp 0 sõnu."
      ],
      "metadata": {
        "id": "3Q9fZmbfpgLe"
      }
    },
    {
      "cell_type": "code",
      "execution_count": null,
      "metadata": {
        "colab": {
          "base_uri": "https://localhost:8080/"
        },
        "id": "k-mJm-UfPLrt",
        "outputId": "3d22e848-0d05-46f1-fed6-f50aedd03fa2"
      },
      "outputs": [
        {
          "output_type": "stream",
          "name": "stdout",
          "text": [
            "0 muuttüübiga 843 ['ajalehed-ajakirjad'] ['S'] ['0']\n",
            "0 muuttüübiga 6702 ['eikeegi'] ['P'] ['0']\n",
            "0 muuttüübiga 6717 ['eimiski'] ['P'] ['0']\n",
            "0 muuttüübiga 7026 ['elamine-olemine'] ['S'] ['0']\n",
            "0 muuttüübiga 7471 ['ematu-isatu'] ['S'] ['0']\n",
            "0 muuttüübiga 7479 ['emb-kumb'] ['P'] ['0']\n",
            "0 muuttüübiga 14958 ['ise'] ['P'] ['0']\n",
            "0 muuttüübiga 14959 ['iseenese'] ['P'] ['0']\n",
            "0 muuttüübiga 15187 ['istumine-astumine'] ['S'] ['0']\n",
            "0 muuttüübiga 19951 ['keegi'] ['P'] ['0']\n",
            "0 muuttüübiga 20529 ['kes'] ['P'] ['0']\n",
            "0 muuttüübiga 20739 ['kibin-kabin'] ['S'] ['0']\n",
            "0 muuttüübiga 20781 ['kigin-kägin'] ['S'] ['0']\n",
            "0 muuttüübiga 20802 ['kihin-kahin'] ['S'] ['0']\n",
            "0 muuttüübiga 21156 ['kilin-kolin'] ['S'] ['0']\n",
            "0 muuttüübiga 21157 ['kilin-kõlin'] ['S'] ['0']\n",
            "0 muuttüübiga 21272 ['kimpsud-kompsud'] ['S'] ['0']\n",
            "0 muuttüübiga 21603 ['kirin-kärin'] ['S'] ['0']\n",
            "0 muuttüübiga 22196 ['klibin-klobin'] ['S'] ['0']\n",
            "0 muuttüübiga 24389 ['kopsud-maksad'] ['S'] ['0']\n",
            "0 muuttüübiga 25880 ['kumbki'] ['P'] ['0']\n",
            "0 muuttüübiga 26823 ['kõik'] ['P'] ['0']\n",
            "0 muuttüübiga 29449 ['lapselapselaps'] ['S'] ['0']\n",
            "0 muuttüübiga 29450 ['lapselaps'] ['S'] ['0']\n",
            "0 muuttüübiga 32377 ['luud-kondid'] ['S'] ['0']\n",
            "0 muuttüübiga 32378 ['luud-liikmed'] ['S'] ['0']\n",
            "0 muuttüübiga 35996 ['mina'] ['P'] ['0']\n",
            "0 muuttüübiga 35997 ['mina'] ['P'] ['0']\n",
            "0 muuttüübiga 36130 ['miski'] ['P'] ['0']\n",
            "0 muuttüübiga 36136 ['mis'] ['P'] ['0']\n",
            "0 muuttüübiga 36446 ['mitu-setu'] ['P'] ['0']\n",
            "0 muuttüübiga 41396 ['omaenese'] ['P'] ['0']\n",
            "0 muuttüübiga 46714 ['prigin-pragin'] ['S'] ['0']\n",
            "0 muuttüübiga 51046 ['rigin-ragin'] ['S'] ['0']\n",
            "0 muuttüübiga 53922 ['seesamane'] ['P'] ['0']\n",
            "0 muuttüübiga 53923 ['seesama'] ['P'] ['0']\n",
            "0 muuttüübiga 53925 ['seesamune'] ['P'] ['0']\n",
            "0 muuttüübiga 53927 ['see'] ['P'] ['0']\n",
            "0 muuttüübiga 53928 ['seesinane'] ['P'] ['0']\n",
            "0 muuttüübiga 53929 ['seesinane'] ['P'] ['0']\n",
            "0 muuttüübiga 54676 ['sidin-sädin'] ['S'] ['0']\n",
            "0 muuttüübiga 54730 ['sigin-sagin'] ['S'] ['0']\n",
            "0 muuttüübiga 54769 ['sihin-sahin'] ['S'] ['0']\n",
            "0 muuttüübiga 55177 ['sina'] ['P'] ['0']\n",
            "0 muuttüübiga 55342 ['sirin-sorin'] ['S'] ['0']\n",
            "0 muuttüübiga 55468 ['sisin-susin'] ['S'] ['0']\n",
            "0 muuttüübiga 61040 ['teinepool'] ['S'] ['0']\n",
            "0 muuttüübiga 61282 ['tema'] ['P'] ['0']\n",
            "0 muuttüübiga 62482 ['toosama'] ['P'] ['0']\n",
            "0 muuttüübiga 62517 ['too'] ['P'] ['0']\n",
            "0 muuttüübiga 65404 ['tühi-tähi'] ['S'] ['0']\n",
            "0 muuttüübiga 69197 ['viimnepäev'] ['S'] ['0']\n",
            "0 muuttüübiga 73047 ['üksainuke'] ['A'] ['0']\n",
            "0 muuttüübiga 73049 ['üksainus'] ['A'] ['0']\n",
            "Kokku on muuttüüp 0 sõnu: 54\n"
          ]
        }
      ],
      "source": [
        "# Muuttüüp 0 kirjed\n",
        "i = 0 # indeks ehk rida\n",
        "count = 0 # loendamiseks\n",
        "for sõna, sõnaliik, muuttüüp in zip(sõnad, sõnaliigid, muuttüübid):\n",
        "  i+=1\n",
        "  for m in muuttüüp:\n",
        "    if int(m) == 0:\n",
        "      count+=1\n",
        "      print(\"0 muuttüübiga\", end = \" \")\n",
        "      print(i, sõna, sõnaliik, muuttüüp)\n",
        "print(f\"Kokku on muuttüüp 0 sõnu: {count}\")"
      ]
    },
    {
      "cell_type": "markdown",
      "metadata": {
        "id": "AcMH5JaW0giP"
      },
      "source": [
        "### Analüüs ja statistika"
      ]
    },
    {
      "cell_type": "markdown",
      "source": [
        "Selles peatükis koostatakse sõnaliigi ja muuttüübi sagedustabeleid."
      ],
      "metadata": {
        "id": "otnOSr58sk33"
      }
    },
    {
      "cell_type": "markdown",
      "metadata": {
        "id": "u55R35l5N76G"
      },
      "source": [
        "Järgmine info on võetud [Leksikoni kirjeldusest](https://github.com/Filosoft/vabamorf/blob/master/doc/morfi_leksikoni_kirjeldus.md):\n",
        "\n",
        "#### Lingvistiliselt sisukad sõnaliigid leksikonis on järgmised:\n",
        " * `A` omadussõna - algvõrre (adjektiiv - positiiv), nii käänduvad kui käändumatud, nt kallis või eht\n",
        " * `C` omadussõna - keskvõrre (adjektiiv - komparatiiv), nt laiem\n",
        " * `D` määrsõna (adverb), nt kõrvuti\n",
        " * `G` genitiivatribuut (käändumatu omadussõna), nt balti\n",
        " * `H` pärisnimi, nt Edgar\n",
        " * `I` hüüdsõna (interjektsioon), nt tere\n",
        " * `J` sidesõna (konjunktsioon), nt ja\n",
        " * `K` kaassõna (pre/postpositsioon), nt kaudu\n",
        " * `N` põhiarvsõna (kardinaalnumeraal), nt kaks\n",
        " * `O` järgarvsõna (ordinaalnumeraal), nt teine\n",
        " * `P` asesõna (pronoomen), nt see\n",
        " * `S` nimisõna (substantiiv), nt asi\n",
        " * `U` omadussõna - ülivõrre (adjektiiv - superlatiiv), nt pikim\n",
        " * `V` tegusõna (verb), nt lugema\n",
        " * `X` verbi juurde kuuluv sõna, millel eraldi sõnaliigi tähistus puudub, nt plehku\n",
        "\n",
        "#### Morf. analüsaator väljastab algoritmiliselt analüüsitavatele tekstielementidele ka selliseid 2 liiki, mida sõnastikus ei esine:\n",
        "\n",
        "* `Y` lühend, nt USA\n",
        "* `Z` lausemärk, nt `-`, `/`, `...`\n",
        "\n",
        "#### Sisemiselt kasutatakse veel järgmisi sõnaliike:\n",
        "\n",
        "* `B` omadussõna, millest kesk- või ülivõrde moodustamine ei käi reeglipäraselt, nt. lahja\n",
        "* `W` deverbaal, s.t. sõna on tuletatud verbist, nt. toitev, jooks; esineb alati koos liigiga A või S\n",
        "\n",
        "#### Sõnaliigi väljal võib peale sõnaliigi olla ka mõni järgmine tunnus:\n",
        "\n",
        "* `t` tabusõna (nt perse)\n",
        "* `s` ainult spelleris lubatav üksiksõna (nt Aires, Janeiro)\n",
        "* `e` ainult tesauruses sellisena omaette sõnana esitatav sõna (nt aukudega (=auklik))\n",
        "* `m` liitsõna koosseisu mittesobiv sõna (nt viieaastane)\n",
        "* `n` liitsõna lõppu mittesobiv sõna (nt abt, bai, utt)\n"
      ]
    },
    {
      "cell_type": "markdown",
      "metadata": {
        "id": "Tml8OqYLzVrb"
      },
      "source": [
        "#### Sõnaliigi sagedused"
      ]
    },
    {
      "cell_type": "markdown",
      "source": [
        "Järgmine kood loeb kokku sõnaliike järgmiselt:\n",
        "* kui sõnal on ainult üks sõnaliik, siis vastava sõnaliigi loenduri väärtus tõstetakse ühe võrra\n",
        "* kui sõnal on mitu sõnaliiki, siis võetakse esimene sõnaliik ja selle loenduri väärtus tõstetakse ühe võrra\n",
        "\n",
        "Lõpus väljastatakse sagedustabel."
      ],
      "metadata": {
        "id": "XZi3GKRDprqw"
      }
    },
    {
      "cell_type": "code",
      "execution_count": null,
      "metadata": {
        "colab": {
          "base_uri": "https://localhost:8080/"
        },
        "id": "weDXd86IL_RU",
        "outputId": "8032a316-ca91-43d6-c69c-218662aafea8"
      },
      "outputs": [
        {
          "output_type": "stream",
          "name": "stdout",
          "text": [
            "S: 40625 (55.026%)\n",
            "V: 10724 (14.525%)\n",
            "A: 10336 (14.0%)\n",
            "D: 6460 (8.75%)\n",
            "H: 3777 (5.116%)\n",
            "G: 584 (0.791%)\n",
            "C: 414 (0.561%)\n",
            "I: 336 (0.455%)\n",
            "K: 204 (0.276%)\n",
            "N: 105 (0.142%)\n",
            "P: 102 (0.138%)\n",
            "U: 70 (0.095%)\n",
            "O: 48 (0.065%)\n",
            "J: 23 (0.031%)\n",
            "X: 21 (0.028%)\n",
            "Summa: 73829 (99.999%)\n"
          ]
        }
      ],
      "source": [
        "# Sõnaliigi sagedused (ainult esimene sõnaliik mitme sõnaliigiga sõnast)\n",
        "sõnaliigid_freq = defaultdict(lambda: 0)\n",
        "for sõnaliik_list in sõnaliigid:\n",
        "  if len(sõnaliik_list) == 1: # Ühe sõnaliigiga\n",
        "    sõnaliigid_freq[sõnaliik_list[0]] += 1\n",
        "  else: # Mitme sõnaliigiga\n",
        "    sõnaliigid_freq[sõnaliik_list[0]] += 1\n",
        "\n",
        "sõnaliigid_freq = sorted(sõnaliigid_freq.items(), key=lambda item: item[1], reverse=True)\n",
        "summa, summa_protsent = 0, 0\n",
        "for item, freq in sõnaliigid_freq:\n",
        "  print(f\"{item}: {freq} ({round(freq / len(sõnaliigid) * 100, 3)}%)\")\n",
        "  summa += freq\n",
        "  summa_protsent += freq / len(sõnaliigid) * 100\n",
        "print(f\"Summa: {summa} ({round(summa_protsent, 3)}%)\")"
      ]
    },
    {
      "cell_type": "markdown",
      "source": [
        "Järgmine kood loeb kokku sõnaliike järgmiselt:\n",
        "* kui sõnal on ainult üks sõnaliik, siis vastava sõnaliigi loenduri väärtus tõstetakse ühe võrra\n",
        "* kui sõnal on mitu sõnaliiki, siis koheldakse neid kui üht uut sõnaliiki, mille loenduri väärtus tõstetakse ühe võrra\n",
        "\n",
        "Lõpus väljastatakse sagedustabel."
      ],
      "metadata": {
        "id": "16qJsM0ZqOCv"
      }
    },
    {
      "cell_type": "code",
      "execution_count": null,
      "metadata": {
        "colab": {
          "base_uri": "https://localhost:8080/"
        },
        "id": "RjZMJJYpyQ2c",
        "outputId": "3af805e4-739d-4717-9f50-e0be9619f3ee"
      },
      "outputs": [
        {
          "output_type": "stream",
          "name": "stdout",
          "text": [
            "S: 37141 (50.307%)\n",
            "V: 10655 (14.432%)\n",
            "A: 9977 (13.514%)\n",
            "D: 6419 (8.694%)\n",
            "H: 3763 (5.097%)\n",
            "S,S: 3406 (4.613%)\n",
            "G: 584 (0.791%)\n",
            "C: 414 (0.561%)\n",
            "A,A: 357 (0.484%)\n",
            "I: 336 (0.455%)\n",
            "K: 201 (0.272%)\n",
            "N: 105 (0.142%)\n",
            "P: 90 (0.122%)\n",
            "S,I: 73 (0.099%)\n",
            "U: 70 (0.095%)\n",
            "V,V: 69 (0.093%)\n",
            "O: 48 (0.065%)\n",
            "D,K: 41 (0.056%)\n",
            "J: 23 (0.031%)\n",
            "X: 21 (0.028%)\n",
            "H,H: 14 (0.019%)\n",
            "P,P: 12 (0.016%)\n",
            "S,A: 5 (0.007%)\n",
            "K,D: 3 (0.004%)\n",
            "A,S: 2 (0.003%)\n",
            "Summa: 73829 (100.0%)\n"
          ]
        }
      ],
      "source": [
        "# Sõnaliigi sagedused\n",
        "sõnaliigid_freq = defaultdict(lambda: 0)\n",
        "for sõnaliik_list in sõnaliigid:\n",
        "  if len(sõnaliik_list) == 1: # Ühe sõnaliigiga\n",
        "    sõnaliigid_freq[sõnaliik_list[0]] += 1\n",
        "  else: # Mitme sõnaliigiga\n",
        "    sl = \"\"\n",
        "    for i in range(len(sõnaliik_list)): # Sõnaliigid ühendatakse kokku\n",
        "      item = sõnaliik_list[i]\n",
        "      if i == len(sõnaliik_list) - 1:\n",
        "        sl += item\n",
        "      else:\n",
        "        sl += item + \",\"\n",
        "    sõnaliigid_freq[sl] += 1\n",
        "\n",
        "sõnaliigid_freq = sorted(sõnaliigid_freq.items(), key=lambda item: item[1], reverse=True)\n",
        "summa, summa_protsent = 0, 0\n",
        "for item, freq in sõnaliigid_freq:\n",
        "  print(f\"{item}: {freq} ({round(freq / len(sõnaliigid) * 100, 3)}%)\")\n",
        "  summa += freq\n",
        "  summa_protsent += freq / len(sõnaliigid) * 100\n",
        "print(f\"Summa: {summa} ({round(summa_protsent, 3)}%)\")"
      ]
    },
    {
      "cell_type": "markdown",
      "metadata": {
        "id": "agW0cdxczQH2"
      },
      "source": [
        "#### Muuttüüpide sagedused"
      ]
    },
    {
      "cell_type": "markdown",
      "metadata": {
        "id": "S8brdIDBQtav"
      },
      "source": [
        "Järgmine info on võetud [Leksikoni kirjeldusest](https://github.com/Filosoft/vabamorf/blob/master/doc/morfi_leksikoni_kirjeldus.md):\n",
        "\n",
        "Muuttüüp on sama mis [Väikeses vormisõnastikus](https://www.eki.ee/teemad/tabel_tyybid.html): käändsõnadel 1-26 ja pöördsõnadel 27-38.\n",
        "\n",
        "Koondtabel või täpsem [Väikese vormisõnastiku](https://www.eki.ee/teemad/tabel_tyybid.html) tabel"
      ]
    },
    {
      "cell_type": "markdown",
      "source": [
        "Järgmine kood loeb kokku muuttüüpe järgmiselt:\n",
        "* kui sõnal on ainult üks muuttüüp, siis vastava muuttüübi loendur tõstetakse ühe võrra\n",
        "* kui sõnal on mitu muuttüüpi, siis iga muuttüübi loendur tõstetakse ühe võrra\n",
        "\n",
        "Lisaks loendatakse muutumatuid sõnu ja muuttüüpi 0, mis on Vabamorfi loodud muuttüüp väga erandlike sõnade klassifitseerimiseks\n",
        "\n",
        "Lõpus väljastatakse sagedustabel."
      ],
      "metadata": {
        "id": "0xF7lMdSqeDZ"
      }
    },
    {
      "cell_type": "code",
      "execution_count": null,
      "metadata": {
        "colab": {
          "base_uri": "https://localhost:8080/"
        },
        "id": "p2HSFeO1NMjX",
        "outputId": "0b042cab-7964-40fb-c475-2eaf8151617d"
      },
      "outputs": [
        {
          "name": "stdout",
          "output_type": "stream",
          "text": [
            "---Mitme muuttüübiga sõnades eraldatakse muuttüübid---\n",
            "\n",
            "Käändsõnad\n",
            "22: 14142 (19.155%)\n",
            "2: 11447 (15.505%)\n",
            "11: 6352 (8.604%)\n",
            "12: 5203 (7.047%)\n",
            "1: 4640 (6.285%)\n",
            "9: 3048 (4.128%)\n",
            "16: 2722 (3.687%)\n",
            "10: 2002 (2.712%)\n",
            "17: 1721 (2.331%)\n",
            "25: 1514 (2.051%)\n",
            "26: 1256 (1.701%)\n",
            "6: 1063 (1.44%)\n",
            "19: 739 (1.001%)\n",
            "13: 531 (0.719%)\n",
            "7: 460 (0.623%)\n",
            "24: 399 (0.54%)\n",
            "18: 396 (0.536%)\n",
            "5: 257 (0.348%)\n",
            "23: 218 (0.295%)\n",
            "14: 184 (0.249%)\n",
            "20: 108 (0.146%)\n",
            "4: 106 (0.144%)\n",
            "21: 99 (0.134%)\n",
            "8: 79 (0.107%)\n",
            "15: 70 (0.095%)\n",
            "3: 33 (0.045%)\n",
            "Kokku: 58789 (79.628%)\n",
            "\n",
            "Pöördsõnad\n",
            "27: 5650 (7.653%)\n",
            "28: 2670 (3.616%)\n",
            "29: 722 (0.978%)\n",
            "36: 551 (0.746%)\n",
            "34: 463 (0.627%)\n",
            "30: 214 (0.29%)\n",
            "38: 169 (0.229%)\n",
            "37: 153 (0.207%)\n",
            "35: 112 (0.152%)\n",
            "31: 38 (0.051%)\n",
            "32: 37 (0.05%)\n",
            "33: 11 (0.015%)\n",
            "Kokku: 10790 (14.614%)\n",
            "\n",
            "Muuttüüp 0: 54 (0.073%)\n",
            "Muutumatud sõnad: 8061 (10.918%)\n",
            "\n",
            "Kokku: 77694 (105.235%)\n"
          ]
        }
      ],
      "source": [
        "# Muuttüübi sagedused\n",
        "\n",
        "print(\"---Mitme muuttüübiga sõnades eraldatakse muuttüübid---\\n\")\n",
        "\n",
        "muuttüübid_freq = defaultdict(lambda: 0)\n",
        "# Eraldi kõik\n",
        "for muuttüüp_list in muuttüübid:\n",
        "  if not muuttüüp_list:\n",
        "    muuttüübid_freq[\"-\"] += 1\n",
        "  for item in muuttüüp_list:\n",
        "    muuttüübid_freq[item] += 1 # Võtab eraldi muuttüübid mitme muuttüübiga sõnast\n",
        "\n",
        "käändsõnad_freq = {}\n",
        "pöördsõnad_freq = {}\n",
        "muuttüüp_0_freq = 0\n",
        "muutumatud_freq = 0\n",
        "for item, freq in muuttüübid_freq.items():\n",
        "  if item == \"-\":\n",
        "    muutumatud_freq = freq\n",
        "  elif int(item) == 0:\n",
        "    muuttüüp_0_freq = freq\n",
        "  elif int(item) <= 26:\n",
        "    käändsõnad_freq[item] = freq\n",
        "  else:\n",
        "    pöördsõnad_freq[item] = freq\n",
        "\n",
        "käändsõnad_freq = sorted(käändsõnad_freq.items(), key=lambda item: item[1], reverse=True)\n",
        "pöördsõnad_freq = sorted(pöördsõnad_freq.items(), key=lambda item: item[1], reverse=True)\n",
        "\n",
        "käändsõnad_sum = 0\n",
        "pöördsõnad_sum = 0\n",
        "summa_protsent = 0\n",
        "\n",
        "print(\"Käändsõnad\")\n",
        "for item, freq in käändsõnad_freq:\n",
        "  print(f\"{item}: {freq} ({round(freq / len(muuttüübid) * 100, 4)}%)\")\n",
        "  käändsõnad_sum += freq\n",
        "  summa_protsent += freq / len(muuttüübid) * 100\n",
        "print(f\"Kokku: {käändsõnad_sum} ({round(summa_protsent, 4)}%)\\n\")\n",
        "\n",
        "summa_protsent = 0\n",
        "\n",
        "print(\"Pöördsõnad\")\n",
        "for item, freq in pöördsõnad_freq:\n",
        "  print(f\"{item}: {freq} ({round(freq / len(muuttüübid) * 100, 4)}%)\")\n",
        "  pöördsõnad_sum += freq\n",
        "  summa_protsent += freq / len(muuttüübid) * 100\n",
        "print(f\"Kokku: {pöördsõnad_sum} ({round(summa_protsent, 4)}%)\\n\")\n",
        "print(f\"Muuttüüp 0: {muuttüüp_0_freq} ({round(muuttüüp_0_freq / len(muuttüübid) * 100, 4)}%)\")\n",
        "print(f\"Muutumatud sõnad: {muutumatud_freq} ({round(muutumatud_freq / len(muuttüübid) * 100, 4)}%)\")\n",
        "print(f\"\\nKokku: {käändsõnad_sum + pöördsõnad_sum + muuttüüp_0_freq + muutumatud_freq} ({round((käändsõnad_sum + pöördsõnad_sum + muuttüüp_0_freq + muutumatud_freq) / len(muuttüübid) * 100, 4)}%)\")"
      ]
    },
    {
      "cell_type": "markdown",
      "source": [
        "Järgmine kood loeb kokku muuttüüpe järgmiselt:\n",
        "* kui sõnal on ainult üks muuttüüp, siis vastava muuttüübi loendur tõstetakse ühe võrra\n",
        "* kui sõnal on mitu muuttüüpi, siis koheldakse seda kui rööptüüpi ning selle muuttüübi loendur tõstetakse ühe võrra\n",
        "\n",
        "Lisaks loendatakse muutumatuid sõnu ja muuttüüpi 0, mis on Vabamorfi loodud muuttüüp väga erandlike sõnade klassifitseerimiseks\n",
        "\n",
        "Lõpus väljastatakse sagedustabel."
      ],
      "metadata": {
        "id": "sbkjLn_TrR1N"
      }
    },
    {
      "cell_type": "code",
      "execution_count": null,
      "metadata": {
        "colab": {
          "base_uri": "https://localhost:8080/"
        },
        "id": "lWWv0p7DoDjW",
        "outputId": "9e838aa4-796e-4c35-b458-a15c44f15902"
      },
      "outputs": [
        {
          "output_type": "stream",
          "name": "stdout",
          "text": [
            "---Mitme muuttüübiga sõnadel on oma kategooria---\n",
            "\n",
            "Käändsõnad\n",
            "22: 13941 (18.8828%)\n",
            "2: 11260 (15.2515%)\n",
            "1: 4640 (6.2848%)\n",
            "12: 4286 (5.8053%)\n",
            "11: 3890 (5.2689%)\n",
            "16: 2722 (3.6869%)\n",
            "11,9: 2462 (3.3347%)\n",
            "17: 1721 (2.3311%)\n",
            "25: 1514 (2.0507%)\n",
            "26: 1256 (1.7012%)\n",
            "10: 1085 (1.4696%)\n",
            "6: 1063 (1.4398%)\n",
            "12,10: 903 (1.2231%)\n",
            "9: 586 (0.7937%)\n",
            "19: 552 (0.7477%)\n",
            "13: 531 (0.7192%)\n",
            "7: 455 (0.6163%)\n",
            "24: 399 (0.5404%)\n",
            "18: 396 (0.5364%)\n",
            "5: 227 (0.3075%)\n",
            "23,22: 199 (0.2695%)\n",
            "19,2: 187 (0.2533%)\n",
            "14: 184 (0.2492%)\n",
            "20: 108 (0.1463%)\n",
            "4: 106 (0.1436%)\n",
            "21: 99 (0.1341%)\n",
            "8: 79 (0.107%)\n",
            "15: 70 (0.0948%)\n",
            "3,5: 25 (0.0339%)\n",
            "23: 19 (0.0257%)\n",
            "10,12: 14 (0.019%)\n",
            "3: 8 (0.0108%)\n",
            "5,7: 5 (0.0068%)\n",
            "22,22: 1 (0.0014%)\n",
            "Kokku: 54993 (74.487%)\n",
            "\n",
            "Pöördsõnad\n",
            "27: 5581 (7.5594%)\n",
            "28: 2639 (3.5745%)\n",
            "29: 722 (0.9779%)\n",
            "36: 551 (0.7463%)\n",
            "34: 463 (0.6271%)\n",
            "30: 214 (0.2899%)\n",
            "38: 169 (0.2289%)\n",
            "37: 153 (0.2072%)\n",
            "35: 112 (0.1517%)\n",
            "31,27: 38 (0.0515%)\n",
            "32: 37 (0.0501%)\n",
            "28,27: 31 (0.042%)\n",
            "33: 11 (0.0149%)\n",
            "Kokku: 10721 (14.5214%)\n",
            "\n",
            "Muuttüüp 0: 54 (0.0731%)\n",
            "Muutumatud sõnad: 8061 (10.9185%)\n",
            "\n",
            "Kokku: 73829 (100.0%)\n"
          ]
        }
      ],
      "source": [
        "print(\"---Mitme muuttüübiga sõnadel on oma kategooria---\\n\")\n",
        "\n",
        "muuttüübid_freq = defaultdict(lambda: 0)\n",
        "muutumatud_freq = 0\n",
        "\n",
        "# Mitme muuttüübid omas kategoorias\n",
        "for muuttüüp_list in muuttüübid:\n",
        "  if not muuttüüp_list: # Muutumatud sõnad (muuttüüpi pole)\n",
        "    muutumatud_freq += 1\n",
        "  elif len(muuttüüp_list) == 1:\n",
        "    muuttüübid_freq[str(muuttüüp_list[0])] += 1\n",
        "  else:\n",
        "    mttps = \"\"\n",
        "    for i in range(len(muuttüüp_list)):\n",
        "      item = muuttüüp_list[i]\n",
        "      if i == len(muuttüüp_list) - 1:\n",
        "        mttps += item\n",
        "      else:\n",
        "        mttps += item + \",\"\n",
        "    muuttüübid_freq[mttps] += 1\n",
        "\n",
        "muuttüübid_freq = sorted(muuttüübid_freq.items(), key=lambda item: item[1], reverse=True)\n",
        "\n",
        "käändsõnad_freq = {}\n",
        "pöördsõnad_freq = {}\n",
        "\n",
        "for tüüp, freq in muuttüübid_freq:\n",
        "  el = tüüp.split(\",\")\n",
        "  #print(el, freq)\n",
        "  if int(el[0]) == 0:\n",
        "    tundmatu_freq = freq\n",
        "  elif int(el[0]) <= 26:\n",
        "    käändsõnad_freq[tüüp] = freq\n",
        "  else:\n",
        "    pöördsõnad_freq[tüüp] = freq\n",
        "\n",
        "käändsõnad_sum = 0\n",
        "pöördsõnad_sum = 0\n",
        "summa_protsent = 0\n",
        "\n",
        "print(\"Käändsõnad\")\n",
        "for item, freq in käändsõnad_freq.items():\n",
        "  print(f\"{item}: {freq} ({round(freq / len(muuttüübid) * 100, 4)}%)\")\n",
        "  käändsõnad_sum += freq\n",
        "  summa_protsent += freq / len(muuttüübid) * 100\n",
        "print(f\"Kokku: {käändsõnad_sum} ({round(summa_protsent, 4)}%)\\n\")\n",
        "\n",
        "summa_protsent = 0\n",
        "\n",
        "print(\"Pöördsõnad\")\n",
        "for item, freq in pöördsõnad_freq.items():\n",
        "  print(f\"{item}: {freq} ({round(freq / len(muuttüübid) * 100, 4)}%)\")\n",
        "  pöördsõnad_sum += freq\n",
        "  summa_protsent += freq / len(muuttüübid) * 100\n",
        "print(f\"Kokku: {pöördsõnad_sum} ({round(summa_protsent, 4)}%)\\n\")\n",
        "print(f\"Muuttüüp 0: {tundmatu_freq} ({round(tundmatu_freq / len(muuttüübid) * 100, 4)}%)\")\n",
        "print(f\"Muutumatud sõnad: {muutumatud_freq} ({round(muutumatud_freq / len(muuttüübid) * 100, 4)}%)\")\n",
        "print(f\"\\nKokku: {käändsõnad_sum + pöördsõnad_sum + tundmatu_freq + muutumatud_freq} ({round((käändsõnad_sum + pöördsõnad_sum + tundmatu_freq + muutumatud_freq) / len(muuttüübid) * 100, 4)}%)\")"
      ]
    },
    {
      "cell_type": "markdown",
      "metadata": {
        "id": "oEcA6pW91v8e"
      },
      "source": [
        "Järgmise koodiga analüüsitakse sõnu, täpsemalt keskmine sõna pikkus ja pikim sõna leksikonis."
      ]
    },
    {
      "cell_type": "code",
      "execution_count": null,
      "metadata": {
        "colab": {
          "base_uri": "https://localhost:8080/"
        },
        "id": "ZQbx0q4L1CI-",
        "outputId": "1d025b07-b372-41f3-a47c-4a0701e5618a"
      },
      "outputs": [
        {
          "name": "stdout",
          "output_type": "stream",
          "text": [
            "Keskmine sõna pikkus leksikonis: 9.046\n",
            "Pikim sõna leksikonis: ratsionaliseerimisettepanek (27 tähte)\n"
          ]
        }
      ],
      "source": [
        "# Sõnade keskmine pikkus leksikonis\n",
        "tähtede_arv = 0\n",
        "sõnade_arv = ridade_arv\n",
        "\n",
        "for sõna in sõnad:\n",
        "  tähtede_arv += len(sõna[0]) # [0], sest sõna on järjendis\n",
        "\n",
        "print(f\"Keskmine sõna pikkus leksikonis: {round(tähtede_arv / sõnade_arv, 3)}\")\n",
        "\n",
        "\n",
        "# Pikim sõna\n",
        "max_tähtede_arv = 0\n",
        "pikim_sõna = \"\"\n",
        "\n",
        "for sõna in sõnad:\n",
        "  if len(sõna[0]) > max_tähtede_arv:\n",
        "    pikim_sõna = sõna[0]\n",
        "    max_tähtede_arv = len(sõna[0])\n",
        "\n",
        "print(f\"Pikim sõna leksikonis: {pikim_sõna} ({max_tähtede_arv} tähte)\")"
      ]
    },
    {
      "cell_type": "markdown",
      "metadata": {
        "id": "JK_Gvlr0zdgz"
      },
      "source": [
        "### Andmete salvestamine `.csv` faili"
      ]
    },
    {
      "cell_type": "markdown",
      "source": [
        "Selles peatükis salvestatakse kogutud andmed *.csv* faili."
      ],
      "metadata": {
        "id": "SZe-etWjsKtr"
      }
    },
    {
      "cell_type": "code",
      "execution_count": null,
      "metadata": {
        "id": "ZzrgRhgDITQc"
      },
      "outputs": [],
      "source": [
        "muuttüübi_0_algvormid = list()"
      ]
    },
    {
      "cell_type": "code",
      "execution_count": null,
      "metadata": {
        "id": "8ZYueCASORoA"
      },
      "outputs": [],
      "source": [
        "# Lemmad, muuttüüp (esialgu number, hiljem one-hot vektor vms.) .csv faili\n",
        "veerud = [\"Sõna\", \"Sõnaliik\", \"Muuttüüp\"]\n",
        "with open('muuttüübid_andmed.csv', 'w') as fail:\n",
        "  csv_writer = csv.writer(fail)\n",
        "  csv_writer.writerow(veerud)\n",
        "  for sõna, sõnaliik, muuttüüp in zip(sõnad, sõnaliigid, muuttüübid):\n",
        "    mttps = None\n",
        "    sls = None\n",
        "    # Muuttüübid\n",
        "    if len(muuttüüp) == 0:\n",
        "      mttps = \"-\"\n",
        "    elif len(muuttüüp) == 1:\n",
        "      if int(muuttüüp[0]) == 0: # Kui 0 muuttüüp, siis eira (lähevad eraldi)\n",
        "        print(sõna, sõnaliik, muuttüüp)\n",
        "        muuttüübi_0_algvormid.append(sõna)\n",
        "        continue\n",
        "    else:\n",
        "      mttps = muuttüüp[0] + \",\" + muuttüüp[1]\n",
        "    # Sõnaliigid\n",
        "    if len(sõnaliik) == 0:\n",
        "      sls = \"-\"\n",
        "    elif len(sõnaliik) > 1:\n",
        "      sls = sõnaliik[0] + \",\" + sõnaliik[1]\n",
        "    if mttps and sls:\n",
        "      csv_writer.writerow([sõna[0], sls, mttps])\n",
        "    elif mttps:\n",
        "      csv_writer.writerow([sõna[0], sõnaliik[0], mttps])\n",
        "    elif sls:\n",
        "      csv_writer.writerow([sõna[0], sls, str(muuttüüp[0])])\n",
        "    else:\n",
        "      csv_writer.writerow([sõna[0], sõnaliik[0], str(muuttüüp[0])])"
      ]
    },
    {
      "cell_type": "code",
      "execution_count": null,
      "metadata": {
        "id": "OMSyVpAcIxW4"
      },
      "outputs": [],
      "source": [
        "muuttüübi_0_algvormid[0][0]"
      ]
    },
    {
      "cell_type": "code",
      "execution_count": null,
      "metadata": {
        "id": "plziJH-kS7cZ"
      },
      "outputs": [],
      "source": [
        "# 0 muuttüübiga salvestada andmed käändsõnad ja pöördsõnad eraldi faili\n",
        "# igal real erivorm, sõnaliik, muuttüüp\n",
        "sõnaliigi_regex = r'\\\\(\\w{1,5})\\\\'\n",
        "muuttüübi_regex = r'\\.(\\d{1,2})'\n",
        "\n",
        "sõnad0 = []\n",
        "sõnaliigid0 = []\n",
        "muuttüübid0 = []\n",
        "algvormid0 = []\n",
        "\n",
        "keelud = ['$', '--']\n",
        "lugeja = -1\n",
        "\n",
        "with open('fs_lex.txt', 'r') as fs_lex:\n",
        "# Andmete kättesaamine\n",
        "  fs_lex.readline()\n",
        "  for rida in fs_lex:\n",
        "      #time.sleep(0.125)\n",
        "      #display(rida)\n",
        "      info = rida.split('|')[1].split('!')\n",
        "\n",
        "      # Muuttüübi kättesaamine\n",
        "      muuttüüp = re.findall(muuttüübi_regex, rida)\n",
        "\n",
        "      # Sõnaliigi kättesaamine\n",
        "      sõnaliik = re.findall(sõnaliigi_regex, rida)\n",
        "      if sõnaliik:\n",
        "        for i in range(len(sõnaliik)):\n",
        "          sõnaliik[i] = sõnaliik[i][0]\n",
        "          if sõnaliik[i] == 'B':\n",
        "            sõnaliik[i] = 'A'\n",
        "\n",
        "      if len(muuttüüp) == 1:\n",
        "        if muuttüüp[0] == '0':\n",
        "          lugeja += 1\n",
        "\n",
        "          # Sõna kättesaamine\n",
        "          sõnu = info[0].split(' ')\n",
        "\n",
        "          # Iga sõna eraldi reale\n",
        "          for s in sõnu:\n",
        "            # Sõnade puhastamine\n",
        "            puhastatud = re.sub(r'[\\+\\<\\?\\]\\~\\_\\[\\(\\)\\&\\#\\’\\*\\,]', '', s)\n",
        "            if not puhastatud or puhastatud == '--':\n",
        "              continue\n",
        "            if '=' in puhastatud: # Mitmesõnaline\n",
        "              puhastatud = puhastatud.replace('=', ' ')\n",
        "            if puhastatud[0].isupper():\n",
        "              puhastatud = puhastatud[0] + puhastatud[1:].lower()\n",
        "            else:\n",
        "              puhastatud = puhastatud.lower()\n",
        "\n",
        "            sõnad0.append([puhastatud])\n",
        "            sõnaliigid0.append(sõnaliik)\n",
        "            muuttüübid0.append(muuttüüp)\n",
        "            algvormid0.append(muuttüübi_0_algvormid[lugeja][0])\n"
      ]
    },
    {
      "cell_type": "code",
      "execution_count": null,
      "metadata": {
        "id": "ga_YvCQholMa"
      },
      "outputs": [],
      "source": [
        "# Salvestamine\n",
        "veerud = [\"Sõna\", \"Sõnaliik\", \"Muuttüüp\", \"Algvorm\"]\n",
        "with open('muuttüübi_0_andmed.csv', 'w') as fail:\n",
        "  csv_writer = csv.writer(fail)\n",
        "  csv_writer.writerow(veerud)\n",
        "  for sõna, sõnaliik, muuttüüp, algvorm in zip(sõnad0, sõnaliigid0, muuttüübid0, algvormid0):\n",
        "    mttps = None\n",
        "    sls = None\n",
        "    if len(muuttüüp) == 0:\n",
        "      mttps = \"-\"\n",
        "    if len(muuttüüp) > 1:\n",
        "      mttps = muuttüüp[0] + \",\" + muuttüüp[1]\n",
        "    if len(sõnaliik) > 1:\n",
        "      sls = sõnaliik[0] + \",\" + sõnaliik[1]\n",
        "    if mttps and sls:\n",
        "      csv_writer.writerow([sõna[0], sls, mttps, algvorm])\n",
        "    elif mttps:\n",
        "      csv_writer.writerow([sõna[0], sõnaliik[0], mttps, algvorm])\n",
        "    elif sls:\n",
        "      csv_writer.writerow([sõna[0], sls, str(muuttüüp[0]), algvorm])\n",
        "    else:\n",
        "      csv_writer.writerow([sõna[0], sõnaliik[0], str(muuttüüp[0]), algvorm])"
      ]
    }
  ]
}