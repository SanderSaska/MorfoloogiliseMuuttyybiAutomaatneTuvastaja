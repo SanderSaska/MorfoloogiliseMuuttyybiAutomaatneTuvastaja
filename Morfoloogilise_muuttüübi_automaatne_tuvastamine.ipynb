{
  "nbformat": 4,
  "nbformat_minor": 0,
  "metadata": {
    "colab": {
      "provenance": [],
      "authorship_tag": "ABX9TyMbfLpgRMJy2Cpbb4etW4jh",
      "include_colab_link": true
    },
    "kernelspec": {
      "name": "python3",
      "display_name": "Python 3"
    },
    "language_info": {
      "name": "python"
    }
  },
  "cells": [
    {
      "cell_type": "markdown",
      "metadata": {
        "id": "view-in-github",
        "colab_type": "text"
      },
      "source": [
        "<a href=\"https://colab.research.google.com/github/SanderSaska/MorfoloogiliseMuuttyybiAutomaatneTuvastaja/blob/main/Morfoloogilise_muutt%C3%BC%C3%BCbi_automaatne_tuvastamine.ipynb\" target=\"_parent\"><img src=\"https://colab.research.google.com/assets/colab-badge.svg\" alt=\"Open In Colab\"/></a>"
      ]
    },
    {
      "cell_type": "code",
      "source": [
        "# Colabi jaoks\n",
        "from google.colab import drive\n",
        "drive.mount('/content/drive')\n",
        "import os\n",
        "os.chdir('/content/drive/My Drive/Colab Notebooks/Lõputöö')"
      ],
      "metadata": {
        "colab": {
          "base_uri": "https://localhost:8080/"
        },
        "id": "8mnbPpApixeV",
        "outputId": "e06b99e8-95b2-497d-d428-bee914a48659"
      },
      "execution_count": 2,
      "outputs": [
        {
          "output_type": "stream",
          "name": "stdout",
          "text": [
            "Mounted at /content/drive\n"
          ]
        }
      ]
    },
    {
      "cell_type": "code",
      "source": [
        "# Importimised\n",
        "import re\n",
        "import nltk"
      ],
      "metadata": {
        "id": "Fgw3BYI5D4XK"
      },
      "execution_count": 28,
      "outputs": []
    },
    {
      "cell_type": "markdown",
      "source": [
        "## Statistika"
      ],
      "metadata": {
        "id": "UReLuAxdh4WT"
      }
    },
    {
      "cell_type": "code",
      "source": [
        "# Ridade arv\n",
        "with open('fs_lex.txt', 'r') as fs_lex:\n",
        "  ridade_arv = 0\n",
        "  for rida in fs_lex:\n",
        "    ridade_arv += 1\n",
        "  print(ridade_arv) # 73832"
      ],
      "metadata": {
        "id": "m0F3C9AKi-sE",
        "colab": {
          "base_uri": "https://localhost:8080/"
        },
        "outputId": "a976a3bf-aee8-4319-b053-427ee92e00da"
      },
      "execution_count": 18,
      "outputs": [
        {
          "output_type": "stream",
          "name": "stdout",
          "text": [
            "73832\n"
          ]
        }
      ]
    },
    {
      "cell_type": "code",
      "source": [
        "# Muutujad\n",
        "sõnade_regex = r'\\|([^\\s!]+)(?=\\s|!)' # ChatGPT abiga leitud\n",
        "sõnaliigi_regex = r'\\\\(\\w{1,5})\\\\'\n",
        "muuttüübi_regex = r'\\.(\\d{1,2})'\n",
        "sõnad = []\n",
        "sõnaliigid = []\n",
        "muuttüübid = []\n",
        "\n",
        "with open('fs_lex.txt', 'r') as fs_lex:\n",
        "# Andmete kättesaamine\n",
        "  fs_lex.readline()\n",
        "  for rida in fs_lex:\n",
        "      sõna = re.findall(sõnade_regex, rida)\n",
        "      sõnaliik = re.findall(sõnaliigi_regex, rida)\n",
        "      muuttüüp = re.findall(muuttüübi_regex, rida)\n",
        "      #print(sõna, sõnaliik, muuttüüp)\n",
        "      if sõnaliik:\n",
        "        sõnaliigid.append(sõnaliik)\n",
        "      if muuttüüp:\n",
        "        muuttüübid.append(muuttüüp)\n",
        "      if sõna:\n",
        "        sõnad.append(sõna)"
      ],
      "metadata": {
        "id": "-REoZVZOL3bM"
      },
      "execution_count": 53,
      "outputs": []
    },
    {
      "cell_type": "code",
      "source": [
        "print(len(sõnaliigid))\n",
        "print(sõnaliigid[:5])\n",
        "print(len(muuttüübid))\n",
        "print(muuttüübid[:5])\n",
        "print(len(sõnad))\n",
        "print(sõnad[:5])"
      ],
      "metadata": {
        "colab": {
          "base_uri": "https://localhost:8080/"
        },
        "id": "brDfSz5YL7oA",
        "outputId": "5aa13859-a1ca-4558-f906-3936fa3050cf"
      },
      "execution_count": 60,
      "outputs": [
        {
          "output_type": "stream",
          "name": "stdout",
          "text": [
            "73827\n",
            "[['S'], ['S'], ['S'], ['S'], ['S']]\n",
            "65768\n",
            "[['22'], ['22'], ['22'], ['22'], ['6']]\n",
            "73831\n",
            "[['1/16-fin<aal'], ['1/2-fin<aal'], ['1/4-fin<aal'], ['1/8-fin<aal'], ['aabe']]\n"
          ]
        }
      ]
    },
    {
      "cell_type": "markdown",
      "source": [
        "Järgmine info on võetud [Leksikoni kirjeldusest](https://github.com/Filosoft/vabamorf/blob/master/doc/morfi_leksikoni_kirjeldus.md):\n",
        "\n",
        "#### Lingvistiliselt sisukad sõnaliigid leksikonis on järgmised:\n",
        " * `A` omadussõna - algvõrre (adjektiiv - positiiv), nii käänduvad kui käändumatud, nt kallis või eht\n",
        " * `C` omadussõna - keskvõrre (adjektiiv - komparatiiv), nt laiem\n",
        " * `D` määrsõna (adverb), nt kõrvuti\n",
        " * `G` genitiivatribuut (käändumatu omadussõna), nt balti\n",
        " * `H` pärisnimi, nt Edgar\n",
        " * `I` hüüdsõna (interjektsioon), nt tere\n",
        " * `J` sidesõna (konjunktsioon), nt ja\n",
        " * `K` kaassõna (pre/postpositsioon), nt kaudu\n",
        " * `N` põhiarvsõna (kardinaalnumeraal), nt kaks\n",
        " * `O` järgarvsõna (ordinaalnumeraal), nt teine\n",
        " * `P` asesõna (pronoomen), nt see\n",
        " * `S` nimisõna (substantiiv), nt asi\n",
        " * `U` omadussõna - ülivõrre (adjektiiv - superlatiiv), nt pikim\n",
        " * `V` tegusõna (verb), nt lugema\n",
        " * `X` verbi juurde kuuluv sõna, millel eraldi sõnaliigi tähistus puudub, nt plehku\n",
        "\n",
        "#### Morf. analüsaator väljastab algoritmiliselt analüüsitavatele tekstielementidele ka selliseid 2 liiki, mida sõnastikus ei esine:\n",
        "\n",
        "* `Y` lühend, nt USA\n",
        "* `Z` lausemärk, nt `-`, `/`, `...`\n",
        "\n",
        "#### Sisemiselt kasutatakse veel järgmisi sõnaliike:\n",
        "\n",
        "* `B` omadussõna, millest kesk- või ülivõrde moodustamine ei käi reeglipäraselt, nt. lahja\n",
        "* `W` deverbaal, s.t. sõna on tuletatud verbist, nt. toitev, jooks; esineb alati koos liigiga A või S\n",
        "\n",
        "#### Sõnaliigi väljal võib peale sõnaliigi olla ka mõni järgmine tunnus:\n",
        "\n",
        "* `t` tabusõna (nt perse)\n",
        "* `s` ainult spelleris lubatav üksiksõna (nt Aires, Janeiro)\n",
        "* `e` ainult tesauruses sellisena omaette sõnana esitatav sõna (nt aukudega (=auklik))\n",
        "* `m` liitsõna koosseisu mittesobiv sõna (nt viieaastane)\n",
        "* `n` liitsõna lõppu mittesobiv sõna (nt abt, bai, utt)\n"
      ],
      "metadata": {
        "id": "u55R35l5N76G"
      }
    },
    {
      "cell_type": "code",
      "source": [
        "# Sõnaliigi sagedused\n",
        "sõnaliigid_freq = nltk.probability.FreqDist(sõnaliik[0] for sõnaliik in sõnaliigid)\n",
        "sõnaliigid_freq.tabulate()"
      ],
      "metadata": {
        "colab": {
          "base_uri": "https://localhost:8080/"
        },
        "id": "weDXd86IL_RU",
        "outputId": "8f5da69e-4911-4937-9071-3a0d23982169"
      },
      "execution_count": 55,
      "outputs": [
        {
          "output_type": "stream",
          "name": "stdout",
          "text": [
            "    S     V     A     D     H    Am    De     G     C    SA    DA     I    Sn     K    Ae    AW    St    DI     B     P     N    AS     U    Hs    SW    AD   ASm    Gn     O    SB    Vt    Vn   SAm     X    SN    Sm    Se     J    At    JD    NS   Stn    SC    An    Dn    In    It    He    OP   SAt   DeI   SAW    Kn    Ie   DAn   Vtn   AWt    CS   ASt    Pn   PAn   SAn   Hsn    DJ    Dt   SBt    DK    NP \n",
            "39682 10668  8195  5331  3707  1581   663   538   413   377   355   327   283   203   161   105   104   101   100   100    94    78    70    65    56    49    46    46    46    32    28    25    22    21    20    15    14    13    13    10    10     8     6     6     4     4     4     4     2     2     2     2     1     1     1     1     1     1     1     1     1     1     1     1     1     1     1     1 \n"
          ]
        }
      ]
    },
    {
      "cell_type": "markdown",
      "source": [
        "Järgmine info on võetud [Leksikoni kirjeldusest](https://github.com/Filosoft/vabamorf/blob/master/doc/morfi_leksikoni_kirjeldus.md):\n",
        "\n",
        "Muuttüüp on sama mis [Väikeses vormisõnastikus](https://www.eki.ee/teemad/tabel_tyybid.html): käändsõnadel 1-26 ja pöördsõnadel 27-38.\n",
        "\n",
        "Koondtabel või täpsem [Väikese vormisõnastiku](https://www.eki.ee/teemad/tabel_tyybid.html) tabel"
      ],
      "metadata": {
        "id": "S8brdIDBQtav"
      }
    },
    {
      "cell_type": "code",
      "source": [
        "# Muuttüübi sagedused\n",
        "muuttüübid_freq = nltk.probability.FreqDist(muuttüüp[0] for muuttüüp in muuttüübid) # NB! Võtab hetkel ainult esimese muuttüübi, kui sõnal on mitu\n",
        "muuttüübid_freq.tabulate()"
      ],
      "metadata": {
        "colab": {
          "base_uri": "https://localhost:8080/"
        },
        "id": "p2HSFeO1NMjX",
        "outputId": "4780024d-e468-427a-e2fc-18581be4125e"
      },
      "execution_count": 62,
      "outputs": [
        {
          "output_type": "stream",
          "name": "stdout",
          "text": [
            "   22     2    11    27    12     1    16    28    17    25    26    10     6    19    29     9    36    13    34     7    24    18     5    23    30    14    38    37    35    20     4    21     8    15     0    31    32     3    33 \n",
            "13942 11260  6352  5581  5189  4640  2722  2670  1721  1514  1256  1099  1063   739   722   586   551   531   463   455   399   396   232   218   214   184   169   153   112   108   106    99    79    70    54    38    37    33    11 \n"
          ]
        }
      ]
    },
    {
      "cell_type": "code",
      "source": [],
      "metadata": {
        "id": "8ZYueCASORoA"
      },
      "execution_count": null,
      "outputs": []
    }
  ]
}