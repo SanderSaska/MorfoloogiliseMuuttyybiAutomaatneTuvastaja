{
  "nbformat": 4,
  "nbformat_minor": 0,
  "metadata": {
    "colab": {
      "provenance": [],
      "authorship_tag": "ABX9TyPfZIQnM7ztQAwWuZdMXrcV",
      "include_colab_link": true
    },
    "kernelspec": {
      "name": "python3",
      "display_name": "Python 3"
    },
    "language_info": {
      "name": "python"
    }
  },
  "cells": [
    {
      "cell_type": "markdown",
      "metadata": {
        "id": "view-in-github",
        "colab_type": "text"
      },
      "source": [
        "<a href=\"https://colab.research.google.com/github/SanderSaska/MorfoloogiliseMuuttyybiAutomaatneTuvastaja/blob/main/Morfoloogilise_muutt%C3%BC%C3%BCbi_automaatne_tuvastamine.ipynb\" target=\"_parent\"><img src=\"https://colab.research.google.com/assets/colab-badge.svg\" alt=\"Open In Colab\"/></a>"
      ]
    },
    {
      "cell_type": "code",
      "source": [
        "# Colabi jaoks\n",
        "from google.colab import drive\n",
        "drive.mount('/content/drive')\n",
        "import os\n",
        "os.chdir('/content/drive/My Drive/Colab Notebooks/Lõputöö')"
      ],
      "metadata": {
        "colab": {
          "base_uri": "https://localhost:8080/"
        },
        "id": "8mnbPpApixeV",
        "outputId": "5c74bc27-10ba-4ebb-9e92-d49c16f1d241"
      },
      "execution_count": 1,
      "outputs": [
        {
          "output_type": "stream",
          "name": "stdout",
          "text": [
            "Mounted at /content/drive\n"
          ]
        }
      ]
    },
    {
      "cell_type": "code",
      "source": [
        "# Importimised\n",
        "import re\n",
        "import nltk"
      ],
      "metadata": {
        "id": "Fgw3BYI5D4XK"
      },
      "execution_count": 2,
      "outputs": []
    },
    {
      "cell_type": "markdown",
      "source": [
        "## Statistika"
      ],
      "metadata": {
        "id": "UReLuAxdh4WT"
      }
    },
    {
      "cell_type": "code",
      "source": [
        "# Ridade arv\n",
        "with open('fs_lex.txt', 'r') as fs_lex:\n",
        "  ridade_arv = 0\n",
        "  for rida in fs_lex:\n",
        "    ridade_arv += 1\n",
        "  print(ridade_arv) # 73832"
      ],
      "metadata": {
        "id": "m0F3C9AKi-sE",
        "colab": {
          "base_uri": "https://localhost:8080/"
        },
        "outputId": "f39531a1-e8b3-40de-ee3f-2406a6e4c57f"
      },
      "execution_count": 3,
      "outputs": [
        {
          "output_type": "stream",
          "name": "stdout",
          "text": [
            "73832\n"
          ]
        }
      ]
    },
    {
      "cell_type": "code",
      "source": [
        "# Muutujad\n",
        "sõnade_regex = r'\\|([^\\s!]+)(?=\\s|!)' # ChatGPT abiga leitud\n",
        "sõnaliigi_regex = r'\\\\(\\w{1,5})\\\\'\n",
        "muuttüübi_regex = r'\\.(\\d{1,2})'\n",
        "sõnad = []\n",
        "sõnaliigid = []\n",
        "muuttüübid = []\n",
        "\n",
        "with open('fs_lex.txt', 'r') as fs_lex:\n",
        "# Andmete kättesaamine\n",
        "  fs_lex.readline()\n",
        "  for rida in fs_lex:\n",
        "      sõna = re.findall(sõnade_regex, rida)\n",
        "      sõnaliik = re.findall(sõnaliigi_regex, rida)\n",
        "      muuttüüp = re.findall(muuttüübi_regex, rida)\n",
        "      #print(sõna, sõnaliik, muuttüüp)\n",
        "      if sõnaliik:\n",
        "        if sõnaliik[0][0] == \"B\":\n",
        "          sõnaliigid.append(\"A\")\n",
        "        else:\n",
        "          sõnaliigid.append([sõnaliik[0][0]])\n",
        "      if muuttüüp:\n",
        "        muuttüübid.append(muuttüüp)\n",
        "      if sõna:\n",
        "        puhastatud = re.sub(r'[^a-zA-Z0-9-\\/\\\\]', '', sõna[0])\n",
        "        sõnad.append([puhastatud])"
      ],
      "metadata": {
        "id": "-REoZVZOL3bM"
      },
      "execution_count": 12,
      "outputs": []
    },
    {
      "cell_type": "code",
      "source": [
        "print(len(sõnaliigid))\n",
        "print(sõnaliigid[:20])\n",
        "print(len(muuttüübid))\n",
        "print(muuttüübid[:20])\n",
        "print(len(sõnad))\n",
        "print(sõnad[:20])"
      ],
      "metadata": {
        "colab": {
          "base_uri": "https://localhost:8080/"
        },
        "id": "brDfSz5YL7oA",
        "outputId": "fce670ba-08c3-4673-91c1-8189597f166d"
      },
      "execution_count": 14,
      "outputs": [
        {
          "output_type": "stream",
          "name": "stdout",
          "text": [
            "73827\n",
            "[['S'], ['S'], ['S'], ['S'], ['S'], ['H'], ['S'], ['S'], ['S'], ['A'], ['S'], ['S'], ['S'], ['H'], ['H'], ['H'], ['S'], ['S'], ['A'], ['S']]\n",
            "65768\n",
            "[['22'], ['22'], ['22'], ['22'], ['6'], ['2'], ['2'], ['2'], ['22'], ['25'], ['2'], ['11', '9'], ['18'], ['2'], ['2'], ['2'], ['22'], ['22'], ['6'], ['2']]\n",
            "73831\n",
            "[['1/16-finaal'], ['1/2-finaal'], ['1/4-finaal'], ['1/8-finaal'], ['aabe'], ['Aabel'], ['aabits'], ['aabitsajnger'], ['aabitsajts'], ['aabitsalik'], ['aabitsaraamat'], ['aabitsatarkus'], ['aabitsatde'], ['Aabram'], ['Aachen'], ['Aadam'], ['aadamaun'], ['aadamalikond'], ['aadamalikonnas'], ['aade']]\n"
          ]
        }
      ]
    },
    {
      "cell_type": "markdown",
      "source": [
        "Järgmine info on võetud [Leksikoni kirjeldusest](https://github.com/Filosoft/vabamorf/blob/master/doc/morfi_leksikoni_kirjeldus.md):\n",
        "\n",
        "#### Lingvistiliselt sisukad sõnaliigid leksikonis on järgmised:\n",
        " * `A` omadussõna - algvõrre (adjektiiv - positiiv), nii käänduvad kui käändumatud, nt kallis või eht\n",
        " * `C` omadussõna - keskvõrre (adjektiiv - komparatiiv), nt laiem\n",
        " * `D` määrsõna (adverb), nt kõrvuti\n",
        " * `G` genitiivatribuut (käändumatu omadussõna), nt balti\n",
        " * `H` pärisnimi, nt Edgar\n",
        " * `I` hüüdsõna (interjektsioon), nt tere\n",
        " * `J` sidesõna (konjunktsioon), nt ja\n",
        " * `K` kaassõna (pre/postpositsioon), nt kaudu\n",
        " * `N` põhiarvsõna (kardinaalnumeraal), nt kaks\n",
        " * `O` järgarvsõna (ordinaalnumeraal), nt teine\n",
        " * `P` asesõna (pronoomen), nt see\n",
        " * `S` nimisõna (substantiiv), nt asi\n",
        " * `U` omadussõna - ülivõrre (adjektiiv - superlatiiv), nt pikim\n",
        " * `V` tegusõna (verb), nt lugema\n",
        " * `X` verbi juurde kuuluv sõna, millel eraldi sõnaliigi tähistus puudub, nt plehku\n",
        "\n",
        "#### Morf. analüsaator väljastab algoritmiliselt analüüsitavatele tekstielementidele ka selliseid 2 liiki, mida sõnastikus ei esine:\n",
        "\n",
        "* `Y` lühend, nt USA\n",
        "* `Z` lausemärk, nt `-`, `/`, `...`\n",
        "\n",
        "#### Sisemiselt kasutatakse veel järgmisi sõnaliike:\n",
        "\n",
        "* `B` omadussõna, millest kesk- või ülivõrde moodustamine ei käi reeglipäraselt, nt. lahja\n",
        "* `W` deverbaal, s.t. sõna on tuletatud verbist, nt. toitev, jooks; esineb alati koos liigiga A või S\n",
        "\n",
        "#### Sõnaliigi väljal võib peale sõnaliigi olla ka mõni järgmine tunnus:\n",
        "\n",
        "* `t` tabusõna (nt perse)\n",
        "* `s` ainult spelleris lubatav üksiksõna (nt Aires, Janeiro)\n",
        "* `e` ainult tesauruses sellisena omaette sõnana esitatav sõna (nt aukudega (=auklik))\n",
        "* `m` liitsõna koosseisu mittesobiv sõna (nt viieaastane)\n",
        "* `n` liitsõna lõppu mittesobiv sõna (nt abt, bai, utt)\n"
      ],
      "metadata": {
        "id": "u55R35l5N76G"
      }
    },
    {
      "cell_type": "code",
      "source": [
        "# Sõnaliigi sagedused\n",
        "sõnaliigid_freq = nltk.probability.FreqDist(sõnaliik[0] for sõnaliik in sõnaliigid)\n",
        "sõnaliigid_freq.tabulate()"
      ],
      "metadata": {
        "colab": {
          "base_uri": "https://localhost:8080/"
        },
        "id": "weDXd86IL_RU",
        "outputId": "1af991c6-b8fa-42f5-af6a-97fd1bc98ce5"
      },
      "execution_count": 16,
      "outputs": [
        {
          "output_type": "stream",
          "name": "stdout",
          "text": [
            "    S     V     A     D     H     G     C     I     K     N     P     U     O     J     X \n",
            "40625 10722 10336  6460  3777   584   414   336   204   105   102    70    48    23    21 \n"
          ]
        }
      ]
    },
    {
      "cell_type": "markdown",
      "source": [
        "Järgmine info on võetud [Leksikoni kirjeldusest](https://github.com/Filosoft/vabamorf/blob/master/doc/morfi_leksikoni_kirjeldus.md):\n",
        "\n",
        "Muuttüüp on sama mis [Väikeses vormisõnastikus](https://www.eki.ee/teemad/tabel_tyybid.html): käändsõnadel 1-26 ja pöördsõnadel 27-38.\n",
        "\n",
        "Koondtabel või täpsem [Väikese vormisõnastiku](https://www.eki.ee/teemad/tabel_tyybid.html) tabel"
      ],
      "metadata": {
        "id": "S8brdIDBQtav"
      }
    },
    {
      "cell_type": "code",
      "source": [
        "# Muuttüübi sagedused\n",
        "muuttüübid_freq = nltk.probability.FreqDist(muuttüüp[0] for muuttüüp in muuttüübid) # NB! Võtab hetkel ainult esimese muuttüübi, kui sõnal on mitu\n",
        "käändsõnad_freq = {}\n",
        "pöördsõnad_freq = {}\n",
        "tundmatu_freq = 0\n",
        "for item, freq in muuttüübid_freq.items():\n",
        "  if int(item) == 0:\n",
        "    tundmatu_freq = freq\n",
        "  elif int(item) <= 26:\n",
        "    käändsõnad_freq[item] = freq\n",
        "  else:\n",
        "    pöördsõnad_freq[item] = freq\n",
        "\n",
        "käändsõnad_freq = sorted(käändsõnad_freq.items(), key=lambda item: item[1], reverse=True)\n",
        "pöördsõnad_freq = sorted(pöördsõnad_freq.items(), key=lambda item: item[1], reverse=True)\n",
        "\n",
        "print(\"Käändsõnad\")\n",
        "for item, freq in käändsõnad_freq:\n",
        "  print(f\"{item}: {freq}\")\n",
        "print(\"Pöördsõnad\")\n",
        "for item, freq in pöördsõnad_freq:\n",
        "  print(f\"{item}: {freq}\")\n",
        "print(\"Tundmatud:\", tundmatu_freq)"
      ],
      "metadata": {
        "colab": {
          "base_uri": "https://localhost:8080/"
        },
        "id": "p2HSFeO1NMjX",
        "outputId": "0270d98f-694c-4dd4-cd90-bc3971dd9d2c"
      },
      "execution_count": 27,
      "outputs": [
        {
          "output_type": "stream",
          "name": "stdout",
          "text": [
            "Käändsõnad\n",
            "22: 13942\n",
            "2: 11260\n",
            "11: 6352\n",
            "12: 5189\n",
            "1: 4640\n",
            "16: 2722\n",
            "17: 1721\n",
            "25: 1514\n",
            "26: 1256\n",
            "10: 1099\n",
            "6: 1063\n",
            "19: 739\n",
            "9: 586\n",
            "13: 531\n",
            "7: 455\n",
            "24: 399\n",
            "18: 396\n",
            "5: 232\n",
            "23: 218\n",
            "14: 184\n",
            "20: 108\n",
            "4: 106\n",
            "21: 99\n",
            "8: 79\n",
            "15: 70\n",
            "3: 33\n",
            "Pöördsõnad\n",
            "27: 5581\n",
            "28: 2670\n",
            "29: 722\n",
            "36: 551\n",
            "34: 463\n",
            "30: 214\n",
            "38: 169\n",
            "37: 153\n",
            "35: 112\n",
            "31: 38\n",
            "32: 37\n",
            "33: 11\n",
            "Tundmatud: 54\n"
          ]
        }
      ]
    },
    {
      "cell_type": "code",
      "source": [],
      "metadata": {
        "id": "8ZYueCASORoA"
      },
      "execution_count": null,
      "outputs": []
    }
  ]
}